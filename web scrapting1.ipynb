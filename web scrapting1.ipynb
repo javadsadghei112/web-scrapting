{
  "nbformat": 4,
  "nbformat_minor": 0,
  "metadata": {
    "colab": {
      "provenance": []
    },
    "kernelspec": {
      "name": "python3",
      "display_name": "Python 3"
    },
    "language_info": {
      "name": "python"
    }
  },
  "cells": [
    {
      "cell_type": "code",
      "execution_count": 7,
      "metadata": {
        "id": "6HiSow3LI3WS"
      },
      "outputs": [],
      "source": [
        "import spacy\n",
        "nlp=spacy.blank('en')"
      ]
    },
    {
      "cell_type": "code",
      "source": [
        "doc2 = nlp('''Look for data to help you address the question. Governments are good\n",
        "sources because data from public research is often freely available. Good\n",
        "places to start include http://www.data.gov/, and http://www.science.\n",
        "gov/, and in the United Kingdom, http://data.gov.uk/.\n",
        "Two of my favorite data sets are the General Social Survey at http://www3.norc.org/gss+website/,\n",
        "and the European Social Survey at http://www.europeansocialsurvey.org/''')\n"
      ],
      "metadata": {
        "id": "D5jSdJ-OJL31"
      },
      "execution_count": 8,
      "outputs": []
    },
    {
      "cell_type": "code",
      "source": [
        "for token in doc2:\n",
        "  if token.like_url:\n",
        "    print(token)"
      ],
      "metadata": {
        "colab": {
          "base_uri": "https://localhost:8080/"
        },
        "id": "Dre6fP1UMdbn",
        "outputId": "0345f4ee-6ca9-4d79-8a50-5775d7762d7c"
      },
      "execution_count": 9,
      "outputs": [
        {
          "output_type": "stream",
          "name": "stdout",
          "text": [
            "http://www.data.gov/\n",
            "http://www.science\n",
            "http://data.gov.uk/.\n",
            "http://www3.norc.org/gss+website/\n",
            "http://www.europeansocialsurvey.org/\n"
          ]
        }
      ]
    },
    {
      "cell_type": "code",
      "source": [
        "for token in doc2:\n",
        "  if token.is_alpha:\n",
        "    print(token)"
      ],
      "metadata": {
        "colab": {
          "base_uri": "https://localhost:8080/"
        },
        "id": "tFKzJ1mbMtd5",
        "outputId": "39497c93-e27b-47fa-b8fd-926232f0a972"
      },
      "execution_count": 10,
      "outputs": [
        {
          "output_type": "stream",
          "name": "stdout",
          "text": [
            "Look\n",
            "for\n",
            "data\n",
            "to\n",
            "help\n",
            "you\n",
            "address\n",
            "the\n",
            "question\n",
            "Governments\n",
            "are\n",
            "good\n",
            "sources\n",
            "because\n",
            "data\n",
            "from\n",
            "public\n",
            "research\n",
            "is\n",
            "often\n",
            "freely\n",
            "available\n",
            "Good\n",
            "places\n",
            "to\n",
            "start\n",
            "include\n",
            "and\n",
            "and\n",
            "in\n",
            "the\n",
            "United\n",
            "Kingdom\n",
            "Two\n",
            "of\n",
            "my\n",
            "favorite\n",
            "data\n",
            "sets\n",
            "are\n",
            "the\n",
            "General\n",
            "Social\n",
            "Survey\n",
            "at\n",
            "and\n",
            "the\n",
            "European\n",
            "Social\n",
            "Survey\n",
            "at\n"
          ]
        }
      ]
    },
    {
      "cell_type": "code",
      "source": [
        "from spacy.lang.en.stop_words import STOP_WORDS\n",
        "for token in doc2:\n",
        "  if token not in STOP_WORDS:\n",
        "    print(token)"
      ],
      "metadata": {
        "colab": {
          "base_uri": "https://localhost:8080/"
        },
        "id": "xzrzJfxDM8-s",
        "outputId": "b2424b70-6954-4408-bbc2-8bfed4f846cd"
      },
      "execution_count": 12,
      "outputs": [
        {
          "output_type": "stream",
          "name": "stdout",
          "text": [
            "Look\n",
            "for\n",
            "data\n",
            "to\n",
            "help\n",
            "you\n",
            "address\n",
            "the\n",
            "question\n",
            ".\n",
            "Governments\n",
            "are\n",
            "good\n",
            "\n",
            "\n",
            "sources\n",
            "because\n",
            "data\n",
            "from\n",
            "public\n",
            "research\n",
            "is\n",
            "often\n",
            "freely\n",
            "available\n",
            ".\n",
            "Good\n",
            "\n",
            "\n",
            "places\n",
            "to\n",
            "start\n",
            "include\n",
            "http://www.data.gov/\n",
            ",\n",
            "and\n",
            "http://www.science\n",
            ".\n",
            "\n",
            "\n",
            "gov/\n",
            ",\n",
            "and\n",
            "in\n",
            "the\n",
            "United\n",
            "Kingdom\n",
            ",\n",
            "http://data.gov.uk/.\n",
            "\n",
            "\n",
            "Two\n",
            "of\n",
            "my\n",
            "favorite\n",
            "data\n",
            "sets\n",
            "are\n",
            "the\n",
            "General\n",
            "Social\n",
            "Survey\n",
            "at\n",
            "http://www3.norc.org/gss+website/\n",
            ",\n",
            "\n",
            "\n",
            "and\n",
            "the\n",
            "European\n",
            "Social\n",
            "Survey\n",
            "at\n",
            "http://www.europeansocialsurvey.org/\n"
          ]
        }
      ]
    }
  ]
}